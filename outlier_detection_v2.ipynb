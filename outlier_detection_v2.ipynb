{
  "nbformat": 4,
  "nbformat_minor": 0,
  "metadata": {
    "colab": {
      "provenance": [],
      "authorship_tag": "ABX9TyPUH4wkW5CEgaHCXJ1lZ6PC",
      "include_colab_link": true
    },
    "kernelspec": {
      "name": "python3",
      "display_name": "Python 3"
    },
    "language_info": {
      "name": "python"
    }
  },
  "cells": [
    {
      "cell_type": "markdown",
      "metadata": {
        "id": "view-in-github",
        "colab_type": "text"
      },
      "source": [
        "<a href=\"https://colab.research.google.com/github/CoderAPS/anomaly_detection/blob/main/outlier_detection_v2.ipynb\" target=\"_parent\"><img src=\"https://colab.research.google.com/assets/colab-badge.svg\" alt=\"Open In Colab\"/></a>"
      ]
    },
    {
      "cell_type": "code",
      "source": [
        "import matplotlib.pyplot as plt"
      ],
      "metadata": {
        "id": "qdAkAs2JxueV"
      },
      "execution_count": null,
      "outputs": []
    },
    {
      "cell_type": "code",
      "execution_count": null,
      "metadata": {
        "colab": {
          "base_uri": "https://localhost:8080/"
        },
        "id": "oZikQRyMoQLF",
        "outputId": "7d66fbb2-1e5f-475d-fb83-8fbffc7d21f8"
      },
      "outputs": [
        {
          "output_type": "stream",
          "name": "stdout",
          "text": [
            "Mounted at /gdrive\n"
          ]
        }
      ],
      "source": [
        "# Mount google drive\n",
        "from google.colab import drive\n",
        "drive.mount('/gdrive')"
      ]
    },
    {
      "cell_type": "code",
      "source": [
        "!ls /gdrive/MyDrive/outlier_prediction"
      ],
      "metadata": {
        "colab": {
          "base_uri": "https://localhost:8080/"
        },
        "id": "82w74em3ogHB",
        "outputId": "60a6071d-cf2c-4e6e-ee4c-d1b5fe66398a"
      },
      "execution_count": null,
      "outputs": [
        {
          "output_type": "stream",
          "name": "stdout",
          "text": [
            "convautoencoder.py  output    __pycache__    train_unsupervised_autoencoder.py\n",
            "find_anomalies.py   plot.png  recon_vis.png\n"
          ]
        }
      ]
    },
    {
      "cell_type": "code",
      "source": [
        "%cd /gdrive/MyDrive/outlier_prediction"
      ],
      "metadata": {
        "colab": {
          "base_uri": "https://localhost:8080/"
        },
        "id": "rnHDmZZppHUB",
        "outputId": "60a5aa22-51c6-4d56-a912-b557495d8fbe"
      },
      "execution_count": null,
      "outputs": [
        {
          "output_type": "stream",
          "name": "stdout",
          "text": [
            "/gdrive/MyDrive/outlier_prediction\n"
          ]
        }
      ]
    },
    {
      "cell_type": "code",
      "source": [
        "!ls"
      ],
      "metadata": {
        "colab": {
          "base_uri": "https://localhost:8080/"
        },
        "id": "ES8-_0SApL0Y",
        "outputId": "082fc173-a8e0-4a02-ae82-827af4915794"
      },
      "execution_count": null,
      "outputs": [
        {
          "output_type": "stream",
          "name": "stdout",
          "text": [
            "convautoencoder.py  output    __pycache__    train_unsupervised_autoencoder.py\n",
            "find_anomalies.py   plot.png  recon_vis.png\n"
          ]
        }
      ]
    },
    {
      "cell_type": "code",
      "source": [],
      "metadata": {
        "id": "9rY4hCmEm0S-"
      },
      "execution_count": null,
      "outputs": []
    },
    {
      "cell_type": "code",
      "source": [
        "!python train_unsupervised_autoencoder.py \\\n",
        "\t--dataset output/images.pickle \\\n",
        "\t--model output/autoencoder"
      ],
      "metadata": {
        "colab": {
          "base_uri": "https://localhost:8080/"
        },
        "id": "Sc5GwU2SpN20",
        "outputId": "7d71e611-5737-4593-dbc9-2fbe3124d012"
      },
      "execution_count": null,
      "outputs": [
        {
          "output_type": "stream",
          "name": "stdout",
          "text": [
            "2024-01-23 19:33:07.097285: E external/local_xla/xla/stream_executor/cuda/cuda_dnn.cc:9261] Unable to register cuDNN factory: Attempting to register factory for plugin cuDNN when one has already been registered\n",
            "2024-01-23 19:33:07.097356: E external/local_xla/xla/stream_executor/cuda/cuda_fft.cc:607] Unable to register cuFFT factory: Attempting to register factory for plugin cuFFT when one has already been registered\n",
            "2024-01-23 19:33:07.099034: E external/local_xla/xla/stream_executor/cuda/cuda_blas.cc:1515] Unable to register cuBLAS factory: Attempting to register factory for plugin cuBLAS when one has already been registered\n",
            "2024-01-23 19:33:07.108707: I tensorflow/core/platform/cpu_feature_guard.cc:182] This TensorFlow binary is optimized to use available CPU instructions in performance-critical operations.\n",
            "To enable the following instructions: AVX2 FMA, in other operations, rebuild TensorFlow with the appropriate compiler flags.\n",
            "2024-01-23 19:33:08.402590: W tensorflow/compiler/tf2tensorrt/utils/py_utils.cc:38] TF-TRT Warning: Could not find TensorRT\n",
            "[INFO] loading MNIST dataset...\n",
            "[INFO] creating unsupervised dataset...\n",
            "[INFO] building autoencoder...\n",
            "Epoch 1/20\n",
            "171/171 [==============================] - 14s 66ms/step - loss: 0.0477 - val_loss: 0.0444\n",
            "Epoch 2/20\n",
            "171/171 [==============================] - 11s 64ms/step - loss: 0.0118 - val_loss: 0.0239\n",
            "Epoch 3/20\n",
            "171/171 [==============================] - 12s 68ms/step - loss: 0.0041 - val_loss: 0.0089\n",
            "Epoch 4/20\n",
            "171/171 [==============================] - 12s 68ms/step - loss: 0.0032 - val_loss: 0.0035\n",
            "Epoch 5/20\n",
            "171/171 [==============================] - 12s 68ms/step - loss: 0.0029 - val_loss: 0.0029\n",
            "Epoch 6/20\n",
            "171/171 [==============================] - 11s 67ms/step - loss: 0.0026 - val_loss: 0.0029\n",
            "Epoch 7/20\n",
            "171/171 [==============================] - 11s 64ms/step - loss: 0.0025 - val_loss: 0.0025\n",
            "Epoch 8/20\n",
            "171/171 [==============================] - 10s 60ms/step - loss: 0.0023 - val_loss: 0.0025\n",
            "Epoch 9/20\n",
            "171/171 [==============================] - 11s 66ms/step - loss: 0.0023 - val_loss: 0.0024\n",
            "Epoch 10/20\n",
            "171/171 [==============================] - 11s 66ms/step - loss: 0.0022 - val_loss: 0.0024\n",
            "Epoch 11/20\n",
            "171/171 [==============================] - 11s 65ms/step - loss: 0.0021 - val_loss: 0.0025\n",
            "Epoch 12/20\n",
            "171/171 [==============================] - 11s 66ms/step - loss: 0.0020 - val_loss: 0.0022\n",
            "Epoch 13/20\n",
            "171/171 [==============================] - 10s 57ms/step - loss: 0.0019 - val_loss: 0.0022\n",
            "Epoch 14/20\n",
            "171/171 [==============================] - 11s 66ms/step - loss: 0.0018 - val_loss: 0.0021\n",
            "Epoch 15/20\n",
            "171/171 [==============================] - 11s 66ms/step - loss: 0.0018 - val_loss: 0.0022\n",
            "Epoch 16/20\n",
            "171/171 [==============================] - 11s 66ms/step - loss: 0.0018 - val_loss: 0.0022\n",
            "Epoch 17/20\n",
            "171/171 [==============================] - 11s 66ms/step - loss: 0.0018 - val_loss: 0.0022\n",
            "Epoch 18/20\n",
            "171/171 [==============================] - 10s 60ms/step - loss: 0.0017 - val_loss: 0.0023\n",
            "Epoch 19/20\n",
            "171/171 [==============================] - 11s 63ms/step - loss: 0.0017 - val_loss: 0.0021\n",
            "Epoch 20/20\n",
            "171/171 [==============================] - 11s 65ms/step - loss: 0.0017 - val_loss: 0.0021\n",
            "[INFO] making predictions...\n",
            "43/43 [==============================] - 1s 17ms/step\n",
            "[INFO] saving image data...\n",
            "[INFO] saving autoencoder...\n"
          ]
        }
      ]
    },
    {
      "cell_type": "code",
      "source": [
        "!python find_anomalies.py \\\n",
        "  --dataset output/images.pickle \\\n",
        "\t--model output/autoencoder"
      ],
      "metadata": {
        "colab": {
          "base_uri": "https://localhost:8080/"
        },
        "id": "7lWIKc3i3-Sb",
        "outputId": "f64956bd-51c4-4588-8e34-53ed4e8f4edb"
      },
      "execution_count": null,
      "outputs": [
        {
          "output_type": "stream",
          "name": "stdout",
          "text": [
            "2024-01-24 19:00:47.178476: E external/local_xla/xla/stream_executor/cuda/cuda_dnn.cc:9261] Unable to register cuDNN factory: Attempting to register factory for plugin cuDNN when one has already been registered\n",
            "2024-01-24 19:00:47.178547: E external/local_xla/xla/stream_executor/cuda/cuda_fft.cc:607] Unable to register cuFFT factory: Attempting to register factory for plugin cuFFT when one has already been registered\n",
            "2024-01-24 19:00:47.179503: E external/local_xla/xla/stream_executor/cuda/cuda_blas.cc:1515] Unable to register cuBLAS factory: Attempting to register factory for plugin cuBLAS when one has already been registered\n",
            "2024-01-24 19:00:47.184841: I tensorflow/core/platform/cpu_feature_guard.cc:182] This TensorFlow binary is optimized to use available CPU instructions in performance-critical operations.\n",
            "To enable the following instructions: AVX2 FMA, in other operations, rebuild TensorFlow with the appropriate compiler flags.\n",
            "2024-01-24 19:00:48.102396: W tensorflow/compiler/tf2tensorrt/utils/py_utils.cc:38] TF-TRT Warning: Could not find TensorRT\n",
            "[INFO] loading autoencoder and image data...\n",
            "213/213 [==============================] - 3s 11ms/step\n",
            "idxs: [  61 1215 3917 4575 4925 5283 6135]\n",
            "[INFO] mse threshold: 0.02741186434030534\n",
            "[INFO] 7 outliers found\n"
          ]
        }
      ]
    },
    {
      "cell_type": "code",
      "source": [
        "outliers = plt.imread('outliers_vis.png')\n",
        "plt.imshow(outliers)\n",
        "plt.title('Outliers')\n",
        "plt.axis('off');"
      ],
      "metadata": {
        "colab": {
          "base_uri": "https://localhost:8080/",
          "height": 428
        },
        "id": "agf15_TkxlUa",
        "outputId": "5b66edf6-5e1b-463f-dc61-aaf2e1984bb9"
      },
      "execution_count": null,
      "outputs": [
        {
          "output_type": "display_data",
          "data": {
            "text/plain": [
              "<Figure size 640x480 with 1 Axes>"
            ],
            "image/png": "[encoded data removed]"
          },
          "metadata": {}
        }
      ]
    },
    {
      "cell_type": "code",
      "source": [
        "!ls"
      ],
      "metadata": {
        "colab": {
          "base_uri": "https://localhost:8080/"
        },
        "id": "eCKvKLZuylUg",
        "outputId": "5555bed5-b310-401f-ad31-e5da004a2dec"
      },
      "execution_count": null,
      "outputs": [
        {
          "output_type": "stream",
          "name": "stdout",
          "text": [
            "convautoencoder.py  outliers_vis.png  plot.png\t   recon_vis.png\n",
            "find_anomalies.py   output\t      __pycache__  train_unsupervised_autoencoder.py\n"
          ]
        }
      ]
    }
  ]
}