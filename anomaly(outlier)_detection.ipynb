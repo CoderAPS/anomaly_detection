{
  "nbformat": 4,
  "nbformat_minor": 0,
  "metadata": {
    "colab": {
      "provenance": [],
      "authorship_tag": "ABX9TyMcWVLDE6x8EqsLUsXY3N0N",
      "include_colab_link": true
    },
    "kernelspec": {
      "name": "python3",
      "display_name": "Python 3"
    },
    "language_info": {
      "name": "python"
    }
  },
  "cells": [
    {
      "cell_type": "markdown",
      "metadata": {
        "id": "view-in-github",
        "colab_type": "text"
      },
      "source": [
        "<a href=\"https://colab.research.google.com/github/CoderAPS/anomaly_detection/blob/main/anomaly(outlier)_detection.ipynb\" target=\"_parent\"><img src=\"https://colab.research.google.com/assets/colab-badge.svg\" alt=\"Open In Colab\"/></a>"
      ]
    },
    {
      "cell_type": "markdown",
      "source": [
        "### Using Autoencoders in Tensorflow Keras for Anomaly Detection ###\n",
        "\n",
        "Ref: https://pyimagesearch.com/2020/03/02/anomaly-detection-with-keras-tensorflow-and-deep-learning/<br>\n",
        "\n",
        "Ref: https://alpersinbalc.medium.com/using-autoencoders-in-tensorflow-keras-for-anomaly-detection-2ce9c34435ce"
      ],
      "metadata": {
        "id": "07bg76z7Y6PW"
      }
    },
    {
      "cell_type": "code",
      "source": [
        "# import the necessary packages\n",
        "import tensorflow as tf\n",
        "from tensorflow.keras.layers import BatchNormalization\n",
        "from tensorflow.keras.layers import Conv2D\n",
        "from tensorflow.keras.layers import Conv2DTranspose\n",
        "from tensorflow.keras.layers import LeakyReLU\n",
        "from tensorflow.keras.layers import Activation\n",
        "from tensorflow.keras.layers import Flatten\n",
        "from tensorflow.keras.layers import Dense\n",
        "from tensorflow.keras.layers import Reshape\n",
        "from tensorflow.keras.layers import Input\n",
        "from tensorflow.keras.models import Model\n",
        "from tensorflow.keras import backend as K\n",
        "import numpy as np"
      ],
      "metadata": {
        "id": "tbTvo1PLo26b"
      },
      "execution_count": null,
      "outputs": []
    },
    {
      "cell_type": "code",
      "source": [
        "tf.__version__"
      ],
      "metadata": {
        "colab": {
          "base_uri": "https://localhost:8080/",
          "height": 36
        },
        "id": "TYK7wAv-pZjs",
        "outputId": "4926d7a0-5f4c-45f3-88b0-c12e73a787fd"
      },
      "execution_count": null,
      "outputs": [
        {
          "output_type": "execute_result",
          "data": {
            "text/plain": [
              "'2.15.0'"
            ],
            "application/vnd.google.colaboratory.intrinsic+json": {
              "type": "string"
            }
          },
          "metadata": {},
          "execution_count": 3
        }
      ]
    },
    {
      "cell_type": "code",
      "source": [
        "class ConvAutoencoder:\n",
        "\t@staticmethod\n",
        "\tdef build(width, height, depth, filters=(32, 64), latentDim=16):\n",
        "    # build encoder\n",
        "\t\t# initialize the input shape to be \"channels last\" along with\n",
        "\t\t# the channels dimension itself\n",
        "\t\t# channels dimension itself\n",
        "\t\tinputShape = (height, width, depth)\n",
        "\t\tchanDim = -1\n",
        "\n",
        "\t\t# define the input to the encoder\n",
        "\t\tinputs = Input(shape=inputShape)\n",
        "\t\tx = inputs\n",
        "\n",
        "\t\t# loop over the number of filters\n",
        "\t\tfor f in filters:\n",
        "\t\t\t# apply a CONV => RELU => BN operation\n",
        "\t\t\tx = Conv2D(f, (3, 3), strides=2, padding=\"same\")(x)\n",
        "\t\t\tx = LeakyReLU(alpha=0.2)(x)\n",
        "\t\t\tx = BatchNormalization(axis=chanDim)(x)\n",
        "\n",
        "\t\t# flatten the network and then construct our latent vector\n",
        "\t\tvolumeSize = K.int_shape(x)\n",
        "\t\tprint(f'volumeSize: {volumeSize}')\n",
        "\t\tx = Flatten()(x)\n",
        "\t\tlatent = Dense(latentDim)(x)\n",
        "\n",
        "\t\t# build the encoder model\n",
        "\t\tencoder = Model(inputs, latent, name=\"encoder\")\n",
        "\n",
        "\n",
        "\n",
        "\n",
        "\n",
        "    # start building the decoder model which will accept the\n",
        "\t\t# output of the encoder as its inputs\n",
        "\t\tlatentInputs = Input(shape=(latentDim,))\n",
        "\t\tx = Dense(np.prod(volumeSize[1:]))(latentInputs)\n",
        "\t\tx = Reshape((volumeSize[1], volumeSize[2], volumeSize[3]))(x)\n",
        "\t\t# loop over our number of filters again, but this time in\n",
        "\t\t# reverse order\n",
        "\t\tfor f in filters[::-1]:\n",
        "\t\t\t# apply a CONV_TRANSPOSE => RELU => BN operation\n",
        "\t\t\tx = Conv2DTranspose(f, (3, 3), strides=2,\n",
        "\t\t\t\tpadding=\"same\")(x)\n",
        "\t\t\tx = LeakyReLU(alpha=0.2)(x)\n",
        "\t\t\tx = BatchNormalization(axis=chanDim)(x)\n",
        "\t\t# apply a single CONV_TRANSPOSE layer used to recover the\n",
        "\t\t# original depth of the image\n",
        "\t\tx = Conv2DTranspose(depth, (3, 3), padding=\"same\")(x)\n",
        "\t\toutputs = Activation(\"sigmoid\")(x)\n",
        "\t\t# build the decoder model\n",
        "\t\tdecoder = Model(latentInputs, outputs, name=\"decoder\")\n",
        "\t\t# our autoencoder is the encoder + decoder\n",
        "\t\tautoencoder = Model(inputs, decoder(encoder(inputs)),\n",
        "\t\t\tname=\"autoencoder\")\n",
        "\t\t# return a 3-tuple of the encoder, decoder, and autoencoder\n",
        "\t\treturn (encoder, decoder, autoencoder)"
      ],
      "metadata": {
        "id": "muUu2BxWo52s"
      },
      "execution_count": null,
      "outputs": []
    },
    {
      "cell_type": "code",
      "source": [
        "# set the matplotlib backend so figures can be saved in the background\n",
        "import matplotlib\n",
        "matplotlib.use(\"Agg\")\n",
        "# import the necessary packages\n",
        "#from pyimagesearch.convautoencoder import ConvAutoencoder\n",
        "from tensorflow.keras.optimizers import Adam\n",
        "from tensorflow.keras.datasets import mnist\n",
        "from sklearn.model_selection import train_test_split\n",
        "import matplotlib.pyplot as plt\n",
        "import numpy as np\n",
        "import argparse\n",
        "import random\n",
        "import pickle\n",
        "import cv2\n",
        "import argparse\n",
        "\n",
        "%matplotlib inline"
      ],
      "metadata": {
        "id": "oxFu7p_1o562"
      },
      "execution_count": null,
      "outputs": []
    },
    {
      "cell_type": "code",
      "source": [
        "def build_unsupervised_dataset(data, labels, validLabel=1,\n",
        "\tanomalyLabel=3, contam=0.01, seed=42):\n",
        "\n",
        "\t# grab all indexes of the supplied class label that are *truly*\n",
        "\t# that particular label, then grab the indexes of the image\n",
        "\t# labels that will serve as our \"anomalies\"\n",
        "\tvalidIdxs = np.where(labels == validLabel)[0]\n",
        "\tanomalyIdxs = np.where(labels == anomalyLabel)[0]\n",
        "\n",
        "\t# randomly shuffle both sets of indexes\n",
        "\trandom.shuffle(validIdxs)\n",
        "\trandom.shuffle(anomalyIdxs)\n",
        "\n",
        "\t# compute the total number of anomaly data points to select\n",
        "\ti = int(len(validIdxs) * contam)\n",
        "\tanomalyIdxs = anomalyIdxs[:i]\n",
        "\n",
        "\t# use NumPy array indexing to extract both the valid images and\n",
        "\t# \"anomlay\" images\n",
        "\tvalidImages = data[validIdxs]\n",
        "\tanomalyImages = data[anomalyIdxs]\n",
        "\n",
        "\t# stack the valid images and anomaly images together to form a\n",
        "\t# single data matrix and then shuffle the rows\n",
        "\timages = np.vstack([validImages, anomalyImages])\n",
        "\tnp.random.seed(seed)\n",
        "\tnp.random.shuffle(images)\n",
        "\n",
        "\t# return the set of images\n",
        "\treturn images"
      ],
      "metadata": {
        "id": "MgZCDG92o5-f"
      },
      "execution_count": null,
      "outputs": []
    },
    {
      "cell_type": "code",
      "source": [
        "def visualize_predictions(decoded, gt, samples=10):\n",
        "\n",
        "\t# initialize our list of output images\n",
        "\toutputs = None\n",
        "\n",
        "\t# loop over our number of output samples\n",
        "\tfor i in range(0, samples):\n",
        "\t\t# grab the original image and reconstructed image\n",
        "\t\toriginal = (gt[i] * 255).astype(\"uint8\")\n",
        "\t\trecon = (decoded[i] * 255).astype(\"uint8\")\n",
        "\t\t# stack the original and reconstructed image side-by-side\n",
        "\t\toutput = np.hstack([original, recon])\n",
        "\t\t# if the outputs array is empty, initialize it as the current\n",
        "\t\t# side-by-side image display\n",
        "\t\tif outputs is None:\n",
        "\t\t\toutputs = output\n",
        "\t\t# otherwise, vertically stack the outputs\n",
        "\t\telse:\n",
        "\t\t\toutputs = np.vstack([outputs, output])\n",
        "\n",
        "\t# return the output images\n",
        "\treturn outputs"
      ],
      "metadata": {
        "id": "Y1JM0-Efo6Bu"
      },
      "execution_count": null,
      "outputs": []
    },
    {
      "cell_type": "code",
      "source": [],
      "metadata": {
        "id": "xhMnZipow2U4"
      },
      "execution_count": null,
      "outputs": []
    },
    {
      "cell_type": "code",
      "source": [
        "# help with argparse in colab\n",
        "# https://colab.research.google.com/github/anthony-agbay/introduction-to-python/blob/main/modules/introduction-argparse-pt1/introduction-argparse-pt1.ipynb\n",
        "\n",
        "# Now that we’ve defined our imports and necessary functions,\n",
        "# we’ll go ahead and parse our command line arguments:\n",
        "\n",
        "%%writefile parsing.py\n",
        "##### SCRIPT STARTS HERE #####\n",
        "#!usr/bin/bash python\n",
        "\n",
        "import argparse\n",
        "\n",
        "# construct the argument parse and parse the arguments: 1rst ste\n",
        "ap = argparse.ArgumentParser()\n",
        "\n",
        "# add arguments: 2nd step\n",
        "ap.add_argument(\"-d\", \"--dataset\", type=str, required=True,\n",
        "\thelp=\"path to output dataset file\")\n",
        "\n",
        "ap.add_argument(\"-m\", \"--model\", type=str, required=True,\n",
        "\thelp=\"path to output trained autoencoder\")\n",
        "\n",
        "ap.add_argument(\"-v\", \"--vis\", type=str, default=\"recon_vis.png\",\n",
        "\thelp=\"path to output reconstruction visualization file\")\n",
        "\n",
        "ap.add_argument(\"-p\", \"--plot\", type=str, default=\"plot.png\",\n",
        "\thelp=\"path to output plot file\")\n",
        "\n",
        "# Indicate end of argument definitions and parse args: 3rd step\n",
        "args = ap.parse_args()\n",
        "\n"
      ],
      "metadata": {
        "colab": {
          "base_uri": "https://localhost:8080/"
        },
        "id": "vlQFeoFevaDn",
        "outputId": "b9e5fc9d-db40-49d4-940e-410155f4d5a0"
      },
      "execution_count": null,
      "outputs": [
        {
          "output_type": "stream",
          "name": "stdout",
          "text": [
            "Overwriting parsing.py\n"
          ]
        }
      ]
    },
    {
      "cell_type": "code",
      "source": [
        "# Example of a correct call\n",
        "!python parsing.py \"-d/--dataset\""
      ],
      "metadata": {
        "id": "hQuqIR0v9YPB"
      },
      "execution_count": null,
      "outputs": []
    },
    {
      "cell_type": "code",
      "source": [],
      "metadata": {
        "colab": {
          "base_uri": "https://localhost:8080/",
          "height": 176
        },
        "id": "DU03X0rJBNNM",
        "outputId": "e62e986c-a1de-4a51-80a5-56d3d8ce1b44"
      },
      "execution_count": null,
      "outputs": [
        {
          "output_type": "error",
          "ename": "NameError",
          "evalue": "name 'args' is not defined",
          "traceback": [
            "\u001b[0;31m---------------------------------------------------------------------------\u001b[0m",
            "\u001b[0;31mNameError\u001b[0m                                 Traceback (most recent call last)",
            "\u001b[0;32m<ipython-input-52-66dcfad41c76>\u001b[0m in \u001b[0;36m<cell line: 1>\u001b[0;34m()\u001b[0m\n\u001b[0;32m----> 1\u001b[0;31m \u001b[0margs\u001b[0m\u001b[0;34m\u001b[0m\u001b[0;34m\u001b[0m\u001b[0m\n\u001b[0m",
            "\u001b[0;31mNameError\u001b[0m: name 'args' is not defined"
          ]
        }
      ]
    },
    {
      "cell_type": "code",
      "source": [
        "# initialize the number of epochs to train for, initial learning rate,\n",
        "# and batch size\n",
        "EPOCHS = 20\n",
        "INIT_LR = 1e-3\n",
        "BS = 32\n",
        "\n",
        "# load the MNIST dataset\n",
        "print(\"[INFO] loading MNIST dataset...\")\n",
        "((trainX, trainY), (testX, testY)) = mnist.load_data()\n",
        "\n",
        "# build our unsupervised dataset of images with a small amount of\n",
        "# contamination (i.e., anomalies) added into it\n",
        "print(\"[INFO] creating unsupervised dataset...\")\n",
        "images = build_unsupervised_dataset(trainX, trainY, validLabel=1,\n",
        "\tanomalyLabel=3, contam=0.01)\n",
        "\n",
        "# add a channel dimension to every image in the dataset, then scale\n",
        "# the pixel intensities to the range [0, 1]\n",
        "images = np.expand_dims(images, axis=-1)\n",
        "images = images.astype(\"float32\") / 255.0\n",
        "\n",
        "# construct the training and testing split\n",
        "(trainX, testX) = train_test_split(images, test_size=0.2,\n",
        "\trandom_state=42)"
      ],
      "metadata": {
        "colab": {
          "base_uri": "https://localhost:8080/"
        },
        "id": "_G_Dws2ivaQ8",
        "outputId": "ffcd7d86-882b-436e-d447-525926b0f036"
      },
      "execution_count": null,
      "outputs": [
        {
          "output_type": "stream",
          "name": "stdout",
          "text": [
            "[INFO] loading MNIST dataset...\n",
            "Downloading data from https://storage.googleapis.com/tensorflow/tf-keras-datasets/mnist.npz\n",
            "11490434/11490434 [==============================] - 0s 0us/step\n",
            "[INFO] creating unsupervised dataset...\n"
          ]
        }
      ]
    },
    {
      "cell_type": "code",
      "source": [
        "# construct our convolutional autoencoder\n",
        "print(\"[INFO] building autoencoder...\")\n",
        "(encoder, decoder, autoencoder) = ConvAutoencoder.build(28, 28, 1)\n",
        "opt = Adam(learning_rate=INIT_LR, weight_decay=INIT_LR / EPOCHS)\n",
        "autoencoder.compile(loss=\"mse\", optimizer=opt)\n",
        "print(f'autoencoder: {autoencoder.summary()}')\n",
        "print('-'*100)\n",
        "print(f'encoder: {encoder.summary()}')\n",
        "print('-'*100)\n",
        "print(f'decoder: {autoencoder.summary()}')\n",
        "print('-'*100)\n",
        "\n",
        "# train the convolutional autoencoder\n",
        "H = autoencoder.fit(\n",
        "\ttrainX, trainX,\n",
        "\tvalidation_data=(testX, testX),\n",
        "\tepochs=EPOCHS,\n",
        "\tbatch_size=BS)\n",
        "\n",
        "# use the convolutional autoencoder to make predictions on the\n",
        "# testing images, construct the visualization, and then save it\n",
        "# to disk\n",
        "print(\"[INFO] making predictions...\")\n",
        "decoded = autoencoder.predict(testX)\n",
        "vis = visualize_predictions(decoded, testX)\n",
        "#cv2.imwrite(args[\"vis\"], vis)"
      ],
      "metadata": {
        "colab": {
          "base_uri": "https://localhost:8080/"
        },
        "id": "dO3dyblfvab6",
        "outputId": "c6a48515-2b06-4448-ccf5-a67577441a5b"
      },
      "execution_count": null,
      "outputs": [
        {
          "output_type": "stream",
          "name": "stdout",
          "text": [
            "[INFO] building autoencoder...\n",
            "volumeSize: (None, 7, 7, 64)\n",
            "Model: \"autoencoder\"\n",
            "_________________________________________________________________\n",
            " Layer (type)                Output Shape              Param #   \n",
            "=================================================================\n",
            " input_1 (InputLayer)        [(None, 28, 28, 1)]       0         \n",
            "                                                                 \n",
            " encoder (Functional)        (None, 16)                69392     \n",
            "                                                                 \n",
            " decoder (Functional)        (None, 28, 28, 1)         109377    \n",
            "                                                                 \n",
            "=================================================================\n",
            "Total params: 178769 (698.32 KB)\n",
            "Trainable params: 178385 (696.82 KB)\n",
            "Non-trainable params: 384 (1.50 KB)\n",
            "_________________________________________________________________\n",
            "autoencoder: None\n",
            "----------------------------------------------------------------------------------------------------\n",
            "Model: \"encoder\"\n",
            "_________________________________________________________________\n",
            " Layer (type)                Output Shape              Param #   \n",
            "=================================================================\n",
            " input_1 (InputLayer)        [(None, 28, 28, 1)]       0         \n",
            "                                                                 \n",
            " conv2d (Conv2D)             (None, 14, 14, 32)        320       \n",
            "                                                                 \n",
            " leaky_re_lu (LeakyReLU)     (None, 14, 14, 32)        0         \n",
            "                                                                 \n",
            " batch_normalization (Batch  (None, 14, 14, 32)        128       \n",
            " Normalization)                                                  \n",
            "                                                                 \n",
            " conv2d_1 (Conv2D)           (None, 7, 7, 64)          18496     \n",
            "                                                                 \n",
            " leaky_re_lu_1 (LeakyReLU)   (None, 7, 7, 64)          0         \n",
            "                                                                 \n",
            " batch_normalization_1 (Bat  (None, 7, 7, 64)          256       \n",
            " chNormalization)                                                \n",
            "                                                                 \n",
            " flatten (Flatten)           (None, 3136)              0         \n",
            "                                                                 \n",
            " dense (Dense)               (None, 16)                50192     \n",
            "                                                                 \n",
            "=================================================================\n",
            "Total params: 69392 (271.06 KB)\n",
            "Trainable params: 69200 (270.31 KB)\n",
            "Non-trainable params: 192 (768.00 Byte)\n",
            "_________________________________________________________________\n",
            "encoder: None\n",
            "----------------------------------------------------------------------------------------------------\n",
            "Model: \"autoencoder\"\n",
            "_________________________________________________________________\n",
            " Layer (type)                Output Shape              Param #   \n",
            "=================================================================\n",
            " input_1 (InputLayer)        [(None, 28, 28, 1)]       0         \n",
            "                                                                 \n",
            " encoder (Functional)        (None, 16)                69392     \n",
            "                                                                 \n",
            " decoder (Functional)        (None, 28, 28, 1)         109377    \n",
            "                                                                 \n",
            "=================================================================\n",
            "Total params: 178769 (698.32 KB)\n",
            "Trainable params: 178385 (696.82 KB)\n",
            "Non-trainable params: 384 (1.50 KB)\n",
            "_________________________________________________________________\n",
            "decoder: None\n",
            "----------------------------------------------------------------------------------------------------\n",
            "Epoch 1/20\n",
            "171/171 [==============================] - 18s 77ms/step - loss: 0.0413 - val_loss: 0.0496\n",
            "Epoch 2/20\n",
            "171/171 [==============================] - 13s 79ms/step - loss: 0.0091 - val_loss: 0.0333\n",
            "Epoch 3/20\n",
            "171/171 [==============================] - 13s 76ms/step - loss: 0.0041 - val_loss: 0.0114\n",
            "Epoch 4/20\n",
            "171/171 [==============================] - 14s 81ms/step - loss: 0.0034 - val_loss: 0.0039\n",
            "Epoch 5/20\n",
            "171/171 [==============================] - 14s 80ms/step - loss: 0.0029 - val_loss: 0.0029\n",
            "Epoch 6/20\n",
            "171/171 [==============================] - 13s 79ms/step - loss: 0.0028 - val_loss: 0.0027\n",
            "Epoch 7/20\n",
            "171/171 [==============================] - 13s 77ms/step - loss: 0.0025 - val_loss: 0.0026\n",
            "Epoch 8/20\n",
            "171/171 [==============================] - 15s 88ms/step - loss: 0.0023 - val_loss: 0.0026\n",
            "Epoch 9/20\n",
            "171/171 [==============================] - 14s 84ms/step - loss: 0.0023 - val_loss: 0.0024\n",
            "Epoch 10/20\n",
            "171/171 [==============================] - 13s 79ms/step - loss: 0.0021 - val_loss: 0.0025\n",
            "Epoch 11/20\n",
            "171/171 [==============================] - 14s 85ms/step - loss: 0.0021 - val_loss: 0.0024\n",
            "Epoch 12/20\n",
            "171/171 [==============================] - 15s 90ms/step - loss: 0.0020 - val_loss: 0.0023\n",
            "Epoch 13/20\n",
            "171/171 [==============================] - 19s 110ms/step - loss: 0.0019 - val_loss: 0.0026\n",
            "Epoch 14/20\n",
            "171/171 [==============================] - 13s 76ms/step - loss: 0.0019 - val_loss: 0.0024\n",
            "Epoch 15/20\n",
            "171/171 [==============================] - 14s 80ms/step - loss: 0.0018 - val_loss: 0.0022\n",
            "Epoch 16/20\n",
            "171/171 [==============================] - 14s 81ms/step - loss: 0.0018 - val_loss: 0.0022\n",
            "Epoch 17/20\n",
            "171/171 [==============================] - 14s 79ms/step - loss: 0.0018 - val_loss: 0.0022\n",
            "Epoch 18/20\n",
            "171/171 [==============================] - 13s 75ms/step - loss: 0.0017 - val_loss: 0.0023\n",
            "Epoch 19/20\n",
            "171/171 [==============================] - 15s 86ms/step - loss: 0.0017 - val_loss: 0.0022\n",
            "Epoch 20/20\n",
            "171/171 [==============================] - 13s 75ms/step - loss: 0.0017 - val_loss: 0.0022\n",
            "[INFO] making predictions...\n",
            "43/43 [==============================] - 2s 34ms/step\n"
          ]
        }
      ]
    },
    {
      "cell_type": "code",
      "source": [
        "# construct a plot that plots and saves the training history\n",
        "N = np.arange(0, EPOCHS)\n",
        "plt.style.use(\"ggplot\")\n",
        "plt.figure()\n",
        "plt.plot(N, H.history[\"loss\"], label=\"train_loss\")\n",
        "plt.plot(N, H.history[\"val_loss\"], label=\"val_loss\")\n",
        "plt.title(\"Training Loss\")\n",
        "plt.xlabel(\"Epoch #\")\n",
        "plt.ylabel(\"Loss\")\n",
        "plt.legend(loc=\"upper right\")\n",
        "plt.show()\n",
        "#plt.savefig(args[\"plot\"])\n",
        "\n",
        "# serialize the image data to disk\n",
        "#print(\"[INFO] saving image data...\")\n",
        "#f = open(args[\"dataset\"], \"wb\")\n",
        "#f.write(pickle.dumps(images))\n",
        "#f.close()\n",
        "\n",
        "# serialize the autoencoder model to disk\n",
        "#print(\"[INFO] saving autoencoder...\")\n",
        "#autoencoder.save(args[\"model\"], save_format=\"h5\")"
      ],
      "metadata": {
        "id": "aYM3Fejjo6FJ",
        "colab": {
          "base_uri": "https://localhost:8080/",
          "height": 477
        },
        "outputId": "7d836973-aa8e-4d82-ab13-364c5bd7f362"
      },
      "execution_count": null,
      "outputs": [
        {
          "output_type": "display_data",
          "data": {
            "text/plain": [
              "<Figure size 640x480 with 1 Axes>"
            ],
            "image/png": "[encoded data removed]"
          },
          "metadata": {}
        }
      ]
    },
    {
      "cell_type": "code",
      "source": [],
      "metadata": {
        "colab": {
          "base_uri": "https://localhost:8080/"
        },
        "id": "yi6i14_csHsI",
        "outputId": "0be24057-3ba8-4305-9800-ee11d1aa15e4"
      },
      "execution_count": null,
      "outputs": [
        {
          "output_type": "execute_result",
          "data": {
            "text/plain": [
              "280"
            ]
          },
          "metadata": {},
          "execution_count": 19
        }
      ]
    },
    {
      "cell_type": "code",
      "source": [],
      "metadata": {
        "id": "Vv-s02MLo6Hv"
      },
      "execution_count": null,
      "outputs": []
    },
    {
      "cell_type": "code",
      "source": [
        "#====================================================================================================================\n",
        "# Ref: https://alpersinbalc.medium.com/using-autoencoders-in-tensorflow-keras-for-anomaly-detection-2ce9c34435ce"
      ],
      "metadata": {
        "id": "7R-QJ_KEo6MT"
      },
      "execution_count": null,
      "outputs": []
    },
    {
      "cell_type": "code",
      "execution_count": null,
      "metadata": {
        "id": "txPnlJe9Y0wf"
      },
      "outputs": [],
      "source": [
        "# For synthetic dataset\n",
        "from sklearn.datasets import make_classification\n",
        "\n",
        "# for data preprocessing\n",
        "import numpy as np\n",
        "import pandas as pd\n",
        "from collections import Counter\n",
        "\n",
        "# for visualization\n",
        "import seaborn as sns\n",
        "import matplotlib.pyplot as plt\n",
        "\n",
        "# for model performance\n",
        "import tensorflow as tf\n",
        "from sklearn.model_selection import train_test_split\n",
        "from sklearn.metrics import classification_report"
      ]
    },
    {
      "cell_type": "code",
      "source": [
        "# building imbalanced dataset\n",
        "X, y = make_classification(n_samples=100000,\n",
        "                           n_features=32,\n",
        "                           n_informative=32,\n",
        "                           n_redundant=0,\n",
        "                           n_repeated=0,\n",
        "                           n_classes=3,\n",
        "                           weights=[0.495,0.495, 0.01],\n",
        "                           class_sep=1,\n",
        "                           random_state=0)"
      ],
      "metadata": {
        "id": "Go-mIOLhZmwF"
      },
      "execution_count": null,
      "outputs": []
    },
    {
      "cell_type": "code",
      "source": [
        "# number of classes in target\n",
        "np.unique(y)\n",
        "y_series = pd.Series(y)"
      ],
      "metadata": {
        "id": "EoPlDRa9aH9S"
      },
      "execution_count": null,
      "outputs": []
    },
    {
      "cell_type": "code",
      "source": [
        "y_series.value_counts(normalize=True)"
      ],
      "metadata": {
        "colab": {
          "base_uri": "https://localhost:8080/"
        },
        "id": "YT56OD98dCjE",
        "outputId": "6fe861e2-f848-471d-ebdf-426a5247066d"
      },
      "execution_count": null,
      "outputs": [
        {
          "output_type": "execute_result",
          "data": {
            "text/plain": [
              "0    0.49339\n",
              "1    0.49299\n",
              "2    0.01362\n",
              "dtype: float64"
            ]
          },
          "metadata": {},
          "execution_count": 4
        }
      ]
    },
    {
      "cell_type": "code",
      "source": [
        "# Splitting\n",
        "X_train, X_test, y_train, y_test = train_test_split(X, y, test_size=0.2, random_state=1)\n",
        "\n",
        "# Control the number of records\n",
        "print('The number of records in the training dataset is', X_train.shape[0])\n",
        "\n"
      ],
      "metadata": {
        "colab": {
          "base_uri": "https://localhost:8080/"
        },
        "id": "uEFiNiM-adgT",
        "outputId": "79808018-f1ea-4d2a-99ea-58e66ff8b04d"
      },
      "execution_count": null,
      "outputs": [
        {
          "output_type": "stream",
          "name": "stdout",
          "text": [
            "The number of records in the training dataset is 80000\n"
          ]
        }
      ]
    },
    {
      "cell_type": "code",
      "source": [
        "# Keep only the normal data for the training dataset\n",
        "X_train_normal = X_train[np.where((y_train == 0) | (y_train == 1))]\n",
        "y_train_normal = y_train[np.where((y_train == 0) | (y_train == 1))]\n",
        "\n",
        "# Input layer\n",
        "input = tf.keras.layers.Input(shape=(32,))\n",
        "\n",
        "# Encoder layers\n",
        "encoder = tf.keras.Sequential([\n",
        "  tf.keras.layers.Dense(16, activation='relu'),\n",
        "  tf.keras.layers.Dense(8, activation='relu'),\n",
        "  tf.keras.layers.Dense(4, activation='relu')])(input)\n",
        "\n",
        "# Decoder layers\n",
        "decoder = tf.keras.Sequential([\n",
        "      tf.keras.layers.Dense(8, activation=\"relu\"),\n",
        "      tf.keras.layers.Dense(16, activation=\"relu\"),\n",
        "      tf.keras.layers.Dense(32, activation=\"softmax\")])(encoder)\n",
        "\n",
        "# Create the autoencoder\n",
        "autoencoder = tf.keras.Model(inputs=input, outputs=decoder)\n",
        "autoencoder.summary()"
      ],
      "metadata": {
        "colab": {
          "base_uri": "https://localhost:8080/"
        },
        "id": "cO5RC767aqJw",
        "outputId": "e86c2702-18ed-495c-a4db-1f1e321caa5a"
      },
      "execution_count": null,
      "outputs": [
        {
          "output_type": "stream",
          "name": "stdout",
          "text": [
            "Model: \"model\"\n",
            "_________________________________________________________________\n",
            " Layer (type)                Output Shape              Param #   \n",
            "=================================================================\n",
            " input_1 (InputLayer)        [(None, 32)]              0         \n",
            "                                                                 \n",
            " sequential (Sequential)     (None, 4)                 700       \n",
            "                                                                 \n",
            " sequential_1 (Sequential)   (None, 32)                728       \n",
            "                                                                 \n",
            "=================================================================\n",
            "Total params: 1428 (5.58 KB)\n",
            "Trainable params: 1428 (5.58 KB)\n",
            "Non-trainable params: 0 (0.00 Byte)\n",
            "_________________________________________________________________\n"
          ]
        }
      ]
    },
    {
      "cell_type": "code",
      "source": [
        "ds = pd.Series(y_train_normal)\n",
        "ds.value_counts()"
      ],
      "metadata": {
        "colab": {
          "base_uri": "https://localhost:8080/"
        },
        "id": "MBMz9rixVR9B",
        "outputId": "c4142b1b-9fa0-4110-9511-120c85300247"
      },
      "execution_count": null,
      "outputs": [
        {
          "output_type": "execute_result",
          "data": {
            "text/plain": [
              "1    39526\n",
              "0    39388\n",
              "dtype: int64"
            ]
          },
          "metadata": {},
          "execution_count": 7
        }
      ]
    },
    {
      "cell_type": "code",
      "source": [
        "# Compile the autoencoder\n",
        "autoencoder.compile(optimizer='adam', loss='mae', metrics=['accuracy'])\n",
        "# Fit the autoencoder\n",
        "history = autoencoder.fit(X_train_normal, y_train_normal,\n",
        "          epochs=20,\n",
        "          batch_size=64,\n",
        "          validation_data=(X_test, y_test),\n",
        "          shuffle=True)\n"
      ],
      "metadata": {
        "colab": {
          "base_uri": "https://localhost:8080/"
        },
        "id": "6vUIMJ_FbxU5",
        "outputId": "e18f0b42-8272-4af9-fdb2-751b0255bc94"
      },
      "execution_count": null,
      "outputs": [
        {
          "output_type": "stream",
          "name": "stdout",
          "text": [
            "Epoch 1/20\n",
            "1234/1234 [==============================] - 3s 2ms/step - loss: 0.5008 - accuracy: 0.1415 - val_loss: 0.5161 - val_accuracy: 0.1384\n",
            "Epoch 2/20\n",
            "1234/1234 [==============================] - 3s 2ms/step - loss: 0.5008 - accuracy: 0.1377 - val_loss: 0.5161 - val_accuracy: 0.1384\n",
            "Epoch 3/20\n",
            "1234/1234 [==============================] - 2s 2ms/step - loss: 0.5008 - accuracy: 0.1377 - val_loss: 0.5161 - val_accuracy: 0.1384\n",
            "Epoch 4/20\n",
            "1234/1234 [==============================] - 2s 2ms/step - loss: 0.5008 - accuracy: 0.1377 - val_loss: 0.5161 - val_accuracy: 0.1384\n",
            "Epoch 5/20\n",
            "1234/1234 [==============================] - 2s 2ms/step - loss: 0.5008 - accuracy: 0.1377 - val_loss: 0.5161 - val_accuracy: 0.1383\n",
            "Epoch 6/20\n",
            "1234/1234 [==============================] - 2s 2ms/step - loss: 0.5008 - accuracy: 0.1377 - val_loss: 0.5161 - val_accuracy: 0.1383\n",
            "Epoch 7/20\n",
            "1234/1234 [==============================] - 2s 2ms/step - loss: 0.5008 - accuracy: 0.1377 - val_loss: 0.5161 - val_accuracy: 0.1383\n",
            "Epoch 8/20\n",
            "1234/1234 [==============================] - 3s 2ms/step - loss: 0.5008 - accuracy: 0.1377 - val_loss: 0.5161 - val_accuracy: 0.1383\n",
            "Epoch 9/20\n",
            "1234/1234 [==============================] - 2s 2ms/step - loss: 0.5008 - accuracy: 0.1377 - val_loss: 0.5161 - val_accuracy: 0.1383\n",
            "Epoch 10/20\n",
            "1234/1234 [==============================] - 2s 2ms/step - loss: 0.5008 - accuracy: 0.1377 - val_loss: 0.5161 - val_accuracy: 0.1383\n",
            "Epoch 11/20\n",
            "1234/1234 [==============================] - 2s 2ms/step - loss: 0.5008 - accuracy: 0.1377 - val_loss: 0.5161 - val_accuracy: 0.1383\n",
            "Epoch 12/20\n",
            "1234/1234 [==============================] - 2s 2ms/step - loss: 0.5008 - accuracy: 0.1377 - val_loss: 0.5161 - val_accuracy: 0.1384\n",
            "Epoch 13/20\n",
            "1234/1234 [==============================] - 2s 2ms/step - loss: 0.5008 - accuracy: 0.1377 - val_loss: 0.5161 - val_accuracy: 0.1384\n",
            "Epoch 14/20\n",
            "1234/1234 [==============================] - 2s 2ms/step - loss: 0.5008 - accuracy: 0.1377 - val_loss: 0.5161 - val_accuracy: 0.1384\n",
            "Epoch 15/20\n",
            "1234/1234 [==============================] - 2s 2ms/step - loss: 0.5008 - accuracy: 0.1377 - val_loss: 0.5161 - val_accuracy: 0.1385\n",
            "Epoch 16/20\n",
            "1234/1234 [==============================] - 2s 2ms/step - loss: 0.5008 - accuracy: 0.1377 - val_loss: 0.5161 - val_accuracy: 0.1385\n",
            "Epoch 17/20\n",
            "1234/1234 [==============================] - 2s 2ms/step - loss: 0.5008 - accuracy: 0.1376 - val_loss: 0.5161 - val_accuracy: 0.1384\n",
            "Epoch 18/20\n",
            "1234/1234 [==============================] - 2s 2ms/step - loss: 0.5008 - accuracy: 0.1376 - val_loss: 0.5161 - val_accuracy: 0.1384\n",
            "Epoch 19/20\n",
            "1234/1234 [==============================] - 2s 2ms/step - loss: 0.5008 - accuracy: 0.1376 - val_loss: 0.5161 - val_accuracy: 0.1384\n",
            "Epoch 20/20\n",
            "1234/1234 [==============================] - 2s 2ms/step - loss: 0.5008 - accuracy: 0.1376 - val_loss: 0.5161 - val_accuracy: 0.1384\n"
          ]
        }
      ]
    },
    {
      "cell_type": "code",
      "source": [
        "def evaluate_model(history):\n",
        "  acc = history.history['accuracy']\n",
        "  val_acc = history.history['val_accuracy']\n",
        "  loss = history.history['loss']\n",
        "  val_loss = history.history['val_loss']\n",
        "\n",
        "  plt.figure(figsize=(12,4))\n",
        "  plt.subplot(1, 2, 1)\n",
        "  plt.plot(acc, label='Training Accuracy')\n",
        "  plt.plot(val_acc, label='Validation Accuracy')\n",
        "  plt.legend(loc='upper left')\n",
        "  plt.ylabel('Accuracy')\n",
        "  plt.ylim([min(plt.ylim()),1])\n",
        "  plt.title('Training and Validation Accuracy')\n",
        "  plt.xlabel('Epoch')\n",
        "\n",
        "\n",
        "  plt.subplot(1, 2, 2)\n",
        "  plt.plot(loss, label='Training Loss')\n",
        "  plt.plot(val_loss, label='Validation Loss')\n",
        "  plt.legend(loc='upper right')\n",
        "  plt.ylabel('Loss')\n",
        "  #plt.ylim([0,1.0])\n",
        "  plt.title('Training and Validation Loss')\n",
        "  plt.xlabel('Epoch')\n",
        "\n"
      ],
      "metadata": {
        "id": "jiO2R-aJNr0Z"
      },
      "execution_count": null,
      "outputs": []
    },
    {
      "cell_type": "code",
      "source": [
        "evaluate_model(history)"
      ],
      "metadata": {
        "colab": {
          "base_uri": "https://localhost:8080/",
          "height": 410
        },
        "id": "6gCzKU4bQcBu",
        "outputId": "d30ae7df-b772-4eb4-fad0-95ac42f21429"
      },
      "execution_count": null,
      "outputs": [
        {
          "output_type": "display_data",
          "data": {
            "text/plain": [
              "<Figure size 1200x400 with 2 Axes>"
            ],
            "image/png": "[encoded data removed]"
          },
          "metadata": {}
        }
      ]
    },
    {
      "cell_type": "code",
      "source": [
        "# for predict anomalies/outliers in the training dataset\n",
        "prediction = autoencoder.predict(X_test)\n",
        "\n",
        "# for get the mean absolute error between actual and reconstruction/prediction\n",
        "prediction_loss = tf.keras.losses.mae(prediction, X_test)\n",
        "\n",
        "# for check the prediction loss threshold for 2% of outliers\n",
        "loss_threshold = np.percentile(prediction_loss, 98)\n",
        "print(f'The prediction loss threshold for 1% of outliers is {loss_threshold:.2f}')\n",
        "# for visualize the threshold\n",
        "\n",
        "sns.histplot(prediction_loss, bins=30, alpha=0.8)\n",
        "plt.axvline(x=loss_threshold, color='orange')"
      ],
      "metadata": {
        "colab": {
          "base_uri": "https://localhost:8080/",
          "height": 482
        },
        "id": "8MXNw2ujQmaV",
        "outputId": "78a9925c-8aa2-4308-ee4f-5d1cc365fbbd"
      },
      "execution_count": null,
      "outputs": [
        {
          "output_type": "stream",
          "name": "stdout",
          "text": [
            "625/625 [==============================] - 1s 1ms/step\n",
            "The prediction loss threshold for 1% of outliers is 3.79\n"
          ]
        },
        {
          "output_type": "execute_result",
          "data": {
            "text/plain": [
              "<matplotlib.lines.Line2D at 0x7ebb34929e70>"
            ]
          },
          "metadata": {},
          "execution_count": 11
        },
        {
          "output_type": "display_data",
          "data": {
            "text/plain": [
              "<Figure size 640x480 with 1 Axes>"
            ],
            "image/png": "[encoded data removed]"
          },
          "metadata": {}
        }
      ]
    },
    {
      "cell_type": "code",
      "source": [
        "X_test"
      ],
      "metadata": {
        "colab": {
          "base_uri": "https://localhost:8080/"
        },
        "id": "m1BS3TIgRigR",
        "outputId": "94fdb88c-eea4-4f45-eabf-23b26da7e76b"
      },
      "execution_count": null,
      "outputs": [
        {
          "output_type": "execute_result",
          "data": {
            "text/plain": [
              "array([-1.62529549, -1.9691789 ,  3.83751132, -1.032465  , -3.04709354,\n",
              "       -7.71239844,  1.66093319,  2.61826027,  1.07392468, -0.71107072,\n",
              "        0.19217089, -3.72515755,  0.53067423, -6.3091231 ,  0.47756369,\n",
              "       -1.32866776,  6.97656283,  9.08994224, -2.33444957,  4.95951884,\n",
              "        3.82789327,  2.73993009,  6.02269218,  1.30897628,  4.30851177,\n",
              "        2.06122997, -2.84380965, -0.95697877, -5.00594611, -1.0719376 ,\n",
              "        5.41924751,  3.31983281])"
            ]
          },
          "metadata": {},
          "execution_count": 14
        }
      ]
    },
    {
      "cell_type": "code",
      "source": [
        "# for control the model performance at 2% threshold\n",
        "threshold_prediction = [0 if i < loss_threshold else 1 for i in prediction_loss]\n",
        "\n",
        "# for control the prediction performance\n",
        "print(classification_report(y_test, threshold_prediction))"
      ],
      "metadata": {
        "colab": {
          "base_uri": "https://localhost:8080/"
        },
        "id": "IqESmfA0SeWi",
        "outputId": "4d9d083f-85c5-4f84-f78a-44622e4d8ed1"
      },
      "execution_count": null,
      "outputs": [
        {
          "output_type": "stream",
          "name": "stdout",
          "text": [
            "              precision    recall  f1-score   support\n",
            "\n",
            "           0       0.50      0.99      0.66      9951\n",
            "           1       0.64      0.03      0.05      9773\n",
            "           2       0.00      0.00      0.00       276\n",
            "\n",
            "    accuracy                           0.50     20000\n",
            "   macro avg       0.38      0.34      0.24     20000\n",
            "weighted avg       0.56      0.50      0.36     20000\n",
            "\n"
          ]
        },
        {
          "output_type": "stream",
          "name": "stderr",
          "text": [
            "/usr/local/lib/python3.10/dist-packages/sklearn/metrics/_classification.py:1344: UndefinedMetricWarning: Precision and F-score are ill-defined and being set to 0.0 in labels with no predicted samples. Use `zero_division` parameter to control this behavior.\n",
            "  _warn_prf(average, modifier, msg_start, len(result))\n",
            "/usr/local/lib/python3.10/dist-packages/sklearn/metrics/_classification.py:1344: UndefinedMetricWarning: Precision and F-score are ill-defined and being set to 0.0 in labels with no predicted samples. Use `zero_division` parameter to control this behavior.\n",
            "  _warn_prf(average, modifier, msg_start, len(result))\n",
            "/usr/local/lib/python3.10/dist-packages/sklearn/metrics/_classification.py:1344: UndefinedMetricWarning: Precision and F-score are ill-defined and being set to 0.0 in labels with no predicted samples. Use `zero_division` parameter to control this behavior.\n",
            "  _warn_prf(average, modifier, msg_start, len(result))\n"
          ]
        }
      ]
    }
  ]
}